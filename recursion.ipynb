{
 "cells": [
  {
   "cell_type": "markdown",
   "id": "922799c8-2a57-4dae-980f-edc0ae0ab447",
   "metadata": {},
   "source": [
    "Q.1 Can you explain the logic and working of the Tower of Hanoi algorithm by writing a Java program?\n",
    "How does the recursion work, and how are the movements of disks between rods accomplished?"
   ]
  },
  {
   "cell_type": "markdown",
   "id": "603c19bd-b795-48cc-aee2-075ce1501b5a",
   "metadata": {},
   "source": [
    "The Tower of Hanoi is a well-known computer science and mathematics challenge. It consists of three rods and a variety of disks of varying sizes that may be slotted onto any rod. The problem begins with the disks neatly stacked in ascending order of size on one rod, with the smallest on top. The goal is to shift the full stack to another rod while adhering to the following simple rules:\n",
    "\n",
    "At any given moment, only one disk can be transferred.\n",
    "Each step involves taking the top disk from one of the stacks and putting it on top of another stack or on an empty rod.\n",
    "A larger disk cannot be stacked on top of a smaller disk.\n",
    "\n",
    "Here's a little Java application to help tackle the Tower of Hanoi problem:\n",
    "\n",
    "public class TowerOfHanoi {\n",
    "\n",
    "    public static void main(String[] args) {\n",
    "        int numberOfDisks = 3; // You can change the number of disks as needed\n",
    "        solveHanoi(numberOfDisks, 'A', 'B', 'C');\n",
    "    }\n",
    "\n",
    "    // Recursive method to solve Tower of Hanoi problem\n",
    "    public static void solveHanoi(int n, char source, char auxiliary, char destination) {\n",
    "        if (n == 1) {\n",
    "            System.out.println(\"Move disk 1 from \" + source + \" to \" + destination);\n",
    "            return;\n",
    "        }\n",
    "\n",
    "        // Move (n-1) disks from source to auxiliary peg using destination as auxiliary\n",
    "        solveHanoi(n - 1, source, destination, auxiliary);\n",
    "\n",
    "        // Move the nth disk from source to destination\n",
    "        System.out.println(\"Move disk \" + n + \" from \" + source + \" to \" + destination);\n",
    "\n",
    "        // Move (n-1) disks from auxiliary peg to destination using source as auxiliary\n",
    "        solveHanoi(n - 1, auxiliary, source, destination);\n",
    "    }\n",
    "}\n",
    "\n",
    "Recursion in the Tower of Hanoi algorithm works by breaking down the problem into smaller, simpler subproblems and solving them in a recursive manner until reaching the base case, which is the situation with only one disk. The key is to recognize that moving a tower of n disks can be broken down into three steps:\n",
    "\n",
    "Move the top (n-1) disks from the source rod to an auxiliary rod using the destination rod as an auxiliary.\n",
    "Move the nth disk from the source rod to the destination rod.\n",
    "Move the (n-1) disks from the auxiliary rod to the destination rod using the source rod as an auxiliary.\n",
    "This recursive breakdown continues until there is only one disk to move, which is the base case. Once the base case is reached, the algorithm simply prints the movement of that single disk from the source rod to the destination rod.\n",
    "\n",
    "Now, let's walk through an example with 3 disks:\n",
    "\n",
    "Initial state:\n",
    "\n",
    "Source (A):  [3, 2, 1]\n",
    "Auxiliary (B): []\n",
    "Destination (C): []\n",
    "Move (n-1) disks from A to B using C as auxiliary:\n",
    "\n",
    "Source (A):  [3, 2]\n",
    "Auxiliary (B): [1]\n",
    "Destination (C): []\n",
    "Move disk 3 from A to C:\n",
    "\n",
    "Source (A):  [2]\n",
    "Auxiliary (B): [1]\n",
    "Destination (C): [3]\n",
    "Move (n-1) disks from B to C using A as auxiliary:\n",
    "\n",
    "Source (A):  [2]\n",
    "Auxiliary (B): []\n",
    "Destination (C): [3, 1]\n",
    "Move disk 2 from A to B:\n",
    "\n",
    "Source (A):  []\n",
    "Auxiliary (B): [2]\n",
    "Destination (C): [3, 1]\n",
    "Move (n-1) disks from C to B using A as auxiliary:\n",
    "\n",
    "Source (A):  []\n",
    "Auxiliary (B): [2, 1]\n",
    "Destination (C): [3]\n",
    "Move disk 1 from A to C:\n",
    "\n",
    "Source (A):  []\n",
    "Auxiliary (B): [2]\n",
    "Destination (C): [3, 1]\n",
    "Move (n-1) disks from B to A using C as auxiliary:\n",
    "\n",
    "Source (A):  [1]\n",
    "Auxiliary (B): [2]\n",
    "Destination (C): [3]\n",
    "Move disk 2 from B to C:\n",
    "\n",
    "Source (A):  [1]\n",
    "Auxiliary (B): []\n",
    "Destination (C): [3, 2]\n",
    "Move (n-1) disks from A to C using B as auxiliary:\n",
    "\n",
    "Source (A):  []\n",
    "Auxiliary (B): []\n",
    "Destination (C): [3, 2, 1]\n",
    "The recursive steps continue until all disks are moved from the source rod to the destination rod. Each movement is printed as it happens, demonstrating the sequence of moves required to solve the Tower of Hanoi problem for a given number of disks.\n"
   ]
  },
  {
   "cell_type": "markdown",
   "id": "13e2e5aa-5b07-47f7-940e-a506ca95a775",
   "metadata": {},
   "source": [
    "Q.2 Given two strings word1 and word2, return the minimum number of operations required to convert word1\n",
    "to word2."
   ]
  },
  {
   "cell_type": "code",
   "execution_count": 1,
   "id": "ccf25231-30f5-4366-924f-d06195ce904c",
   "metadata": {},
   "outputs": [
    {
     "name": "stdout",
     "output_type": "stream",
     "text": [
      "Minimum number of operations: 3\n"
     ]
    }
   ],
   "source": [
    "def min_distance(word1, word2):\n",
    "    m, n = len(word1), len(word2)\n",
    "\n",
    "    # Create a matrix to store the minimum distances\n",
    "    dp = [[0] * (n + 1) for _ in range(m + 1)]\n",
    "\n",
    "    # Initialize the matrix with base cases\n",
    "    for i in range(m + 1):\n",
    "        for j in range(n + 1):\n",
    "            if i == 0:\n",
    "                dp[i][j] = j\n",
    "            elif j == 0:\n",
    "                dp[i][j] = i\n",
    "            elif word1[i - 1] == word2[j - 1]:\n",
    "                dp[i][j] = dp[i - 1][j - 1]\n",
    "            else:\n",
    "                dp[i][j] = 1 + min(dp[i - 1][j],        # Deletion\n",
    "                                  dp[i][j - 1],        # Insertion\n",
    "                                  dp[i - 1][j - 1])    # Replacement\n",
    "\n",
    "    return dp[m][n]\n",
    "\n",
    "# Example usage:\n",
    "word1 = \"horse\"\n",
    "word2 = \"ros\"\n",
    "result = min_distance(word1, word2)\n",
    "print(f\"Minimum number of operations: {result}\")"
   ]
  },
  {
   "cell_type": "code",
   "execution_count": 2,
   "id": "9ef5a117-ee2d-4f70-85ab-967a0beacbd2",
   "metadata": {},
   "outputs": [
    {
     "name": "stdout",
     "output_type": "stream",
     "text": [
      "Minimum number of operations: 3\n"
     ]
    }
   ],
   "source": [
    "def min_distance(word1, word2):\n",
    "    m, n = len(word1), len(word2)\n",
    "\n",
    "    # Create a matrix to store the minimum distances\n",
    "    dp = [[0] * (n + 1) for _ in range(m + 1)]\n",
    "\n",
    "    # Initialize the matrix with base cases\n",
    "    for i in range(m + 1):\n",
    "        for j in range(n + 1):\n",
    "            if i == 0:\n",
    "                dp[i][j] = j\n",
    "            elif j == 0:\n",
    "                dp[i][j] = i\n",
    "            elif word1[i - 1] == word2[j - 1]:\n",
    "                dp[i][j] = dp[i - 1][j - 1]\n",
    "            else:\n",
    "                dp[i][j] = 1 + min(dp[i - 1][j],        # Deletion\n",
    "                                  dp[i][j - 1],        # Insertion\n",
    "                                  dp[i - 1][j - 1])    # Replacement\n",
    "\n",
    "    return dp[m][n]\n",
    "\n",
    "# Example usage:\n",
    "word1 = \"horse\"\n",
    "word2 = \"ros\"\n",
    "result = min_distance(word1, word2)\n",
    "print(f\"Minimum number of operations: {result}\")"
   ]
  },
  {
   "cell_type": "code",
   "execution_count": 3,
   "id": "57220fba-e48c-4d0a-bd9e-6ca039808a25",
   "metadata": {},
   "outputs": [
    {
     "name": "stdout",
     "output_type": "stream",
     "text": [
      "Minimum number of operations: 3\n"
     ]
    }
   ],
   "source": [
    "def min_distance(word1, word2):\n",
    "    m, n = len(word1), len(word2)\n",
    "\n",
    "    # Create a matrix to store the minimum distances\n",
    "    dp = [[0] * (n + 1) for _ in range(m + 1)]\n",
    "\n",
    "    # Initialize the matrix with base cases\n",
    "    for i in range(m + 1):\n",
    "        for j in range(n + 1):\n",
    "            if i == 0:\n",
    "                dp[i][j] = j\n",
    "            elif j == 0:\n",
    "                dp[i][j] = i\n",
    "            elif word1[i - 1] == word2[j - 1]:\n",
    "                dp[i][j] = dp[i - 1][j - 1]\n",
    "            else:\n",
    "                dp[i][j] = 1 + min(dp[i - 1][j],        # Deletion\n",
    "                                  dp[i][j - 1],        # Insertion\n",
    "                                  dp[i - 1][j - 1])    # Replacement\n",
    "\n",
    "    return dp[m][n]\n",
    "\n",
    "# Example usage:\n",
    "word1 = \"horse\"\n",
    "word2 = \"ros\"\n",
    "result = min_distance(word1, word2)\n",
    "print(f\"Minimum number of operations: {result}\")"
   ]
  },
  {
   "cell_type": "markdown",
   "id": "934a67fd-041e-449d-bea2-e2d902df17c5",
   "metadata": {},
   "source": [
    "Q. 3 Print the max value of the array [ 13, 1, -3, 22, 5]."
   ]
  },
  {
   "cell_type": "code",
   "execution_count": 10,
   "id": "cbfd8d24-4c98-45da-8353-416468903a41",
   "metadata": {},
   "outputs": [
    {
     "name": "stdout",
     "output_type": "stream",
     "text": [
      "The maximum value of the array is 22\n"
     ]
    }
   ],
   "source": [
    "def max_val (arr):\n",
    "    \n",
    "    val = float('-inf')  # Initialize val to negative infinity to handle negative values in the array\n",
    "    for values in arr:\n",
    "        if values > val:\n",
    "            val = values\n",
    "        \n",
    "    print ('The maximum value of the array is', val)\n",
    "    \n",
    "\n",
    "arr =  [13, 1, -3, 22, 5]\n",
    "max_val (arr)"
   ]
  },
  {
   "cell_type": "markdown",
   "id": "1e5f001c-d5e5-499d-a45b-28fe7ef6024f",
   "metadata": {},
   "source": [
    "Q.4 Find the sum of the values of the array [92, 23, 15, -20, 10]"
   ]
  },
  {
   "cell_type": "code",
   "execution_count": 19,
   "id": "7f5a971e-50d2-487c-bf72-2b43daee2911",
   "metadata": {},
   "outputs": [
    {
     "name": "stdout",
     "output_type": "stream",
     "text": [
      "The sum of values in the array is 120\n"
     ]
    }
   ],
   "source": [
    "def sum_val (arr1):\n",
    "    \n",
    "    val = 0\n",
    "    for values in arr1:\n",
    "        val += values\n",
    "        \n",
    "    print ('The sum of values in the array is', val)\n",
    "    \n",
    "arr1 =  [92, 23, 15, -20, 10]\n",
    "sum_val (arr1)"
   ]
  },
  {
   "cell_type": "markdown",
   "id": "51aa5d9c-948c-4a1b-8f6f-0a3b76816588",
   "metadata": {},
   "source": [
    "Q.5 Given a number n. Print if it is an armstrong number or not.An armstrong number is a number if the sum\n",
    "of every digit in that number raised to the power of total digits in that number is equal to the number."
   ]
  },
  {
   "cell_type": "code",
   "execution_count": 20,
   "id": "ef15eef4-5412-45d9-be1c-1d9446284342",
   "metadata": {},
   "outputs": [
    {
     "name": "stdout",
     "output_type": "stream",
     "text": [
      "85 is not an Armstrong number.\n"
     ]
    }
   ],
   "source": [
    "def is_armstrong_number(n):\n",
    "    # Convert the number to a string to get its digits\n",
    "    str_n = str(n)\n",
    "    \n",
    "    # Calculate the total number of digits\n",
    "    num_digits = len(str_n)\n",
    "    \n",
    "    # Calculate the sum of each digit raised to the power of total digits\n",
    "    armstrong_sum = sum(int(digit) ** num_digits for digit in str_n)\n",
    "    \n",
    "    # Check if the sum is equal to the original number\n",
    "    return armstrong_sum == n\n",
    "\n",
    "# Test with the number 85\n",
    "number_to_check = 85\n",
    "result = is_armstrong_number(number_to_check)\n",
    "\n",
    "if result:\n",
    "    print(f\"{number_to_check} is an Armstrong number.\")\n",
    "else:\n",
    "    print(f\"{number_to_check} is not an Armstrong number.\")"
   ]
  },
  {
   "cell_type": "code",
   "execution_count": null,
   "id": "a089c26b-5081-41a7-b73f-5f6d4477875a",
   "metadata": {},
   "outputs": [],
   "source": []
  }
 ],
 "metadata": {
  "kernelspec": {
   "display_name": "Python 3 (ipykernel)",
   "language": "python",
   "name": "python3"
  },
  "language_info": {
   "codemirror_mode": {
    "name": "ipython",
    "version": 3
   },
   "file_extension": ".py",
   "mimetype": "text/x-python",
   "name": "python",
   "nbconvert_exporter": "python",
   "pygments_lexer": "ipython3",
   "version": "3.10.8"
  }
 },
 "nbformat": 4,
 "nbformat_minor": 5
}
